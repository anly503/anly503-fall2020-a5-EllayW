{
 "cells": [
  {
   "cell_type": "code",
   "execution_count": 1,
   "metadata": {},
   "outputs": [],
   "source": [
    "from IPython.display import IFrame\n",
    "import os\n",
    "path = os.getcwd()\n",
    "\n",
    "plot2 = IFrame(src='./plotly.html', width=700, height=600)\n",
    "\n",
    "plot1 = IFrame(src='./altair.html', width=700, height=600)"
   ]
  },
  {
   "cell_type": "markdown",
   "metadata": {},
   "source": [
    "### Plot 1\n",
    "\n",
    "Question 1: For each household, which appliance/period in a week/day used the most electricity? \n",
    "\n",
    "The plot below shows the consumption of 3 households by weekdays, appliances and different time period in a day, in billions. \n",
    "\n",
    "It is also interactive between each other. By clicking one bar/line, we can elaborate any parts with details. For example, choosing bar/line/point with different color will result in the display of different households. Since we use `consumption` and `house` in both plots, make them interactive will be the best choice due to convenience. \n",
    "\n",
    "By this plot, we can explore the different consumption details by weekdays/time periods daily and appliances. Since bar plots and line plot will show the difference clearly, those are chosen as below. Pie chart could make it better but unfortunately, pie charts are not supported in altair in python.\n",
    "\n",
    "To answer the question 1, we could see house 4 used Freezer the most, and consumed the most when its Friday in a week, and at night in a day. House 5 used Fridge the most, and consumed the most when its Friday in a week, and at night in a day. House 6 used Entertainment (TV/stereo) the most, and consumed the most when its Friday in a week, and at night in a day."
   ]
  },
  {
   "cell_type": "code",
   "execution_count": 2,
   "metadata": {},
   "outputs": [
    {
     "data": {
      "text/html": [
       "\n",
       "        <iframe\n",
       "            width=\"700\"\n",
       "            height=\"600\"\n",
       "            src=\"./altair.html\"\n",
       "            frameborder=\"0\"\n",
       "            allowfullscreen\n",
       "        ></iframe>\n",
       "        "
      ],
      "text/plain": [
       "<IPython.lib.display.IFrame at 0x2202eca9588>"
      ]
     },
     "execution_count": 2,
     "metadata": {},
     "output_type": "execute_result"
    }
   ],
   "source": [
    "plot1"
   ]
  },
  {
   "cell_type": "markdown",
   "metadata": {},
   "source": [
    "### Plot 2\n",
    "The plot below is a density plot by `date` and `appliances` of house 4. Since from the first plot, we see house 4 consume more eletricities in millions than the other two households, we now zoom in and focus on house 4 with question 2. \n",
    "\n",
    "Question 2: \"Which are the abnormal time period in house 4 based on their daily consumption?\"\n",
    "\n",
    "Different with the first plot, this one shows daily `consumption` by `appliances` with details. As a time-series data set, line plot and density plot are the most appropriate one to show the details daily.\n",
    "\n",
    "Also, by clicking the legend, for example \"Freezer\" once, this category will be isolated, so we can subtract the abnormal / extreme category and explore others. The time slot at the bottom gives a time measure of the whole period. We can easily move forward / backward with it. \n",
    "\n",
    "We find out that from late Dec. 2012 to early Jan. 2013, house 4 had abnormal consumption, especially on 'Freezer'.\n"
   ]
  },
  {
   "cell_type": "code",
   "execution_count": 3,
   "metadata": {},
   "outputs": [
    {
     "data": {
      "text/html": [
       "\n",
       "        <iframe\n",
       "            width=\"700\"\n",
       "            height=\"600\"\n",
       "            src=\"./plotly.html\"\n",
       "            frameborder=\"0\"\n",
       "            allowfullscreen\n",
       "        ></iframe>\n",
       "        "
      ],
      "text/plain": [
       "<IPython.lib.display.IFrame at 0x2202ece6508>"
      ]
     },
     "execution_count": 3,
     "metadata": {},
     "output_type": "execute_result"
    }
   ],
   "source": [
    "plot2"
   ]
  },
  {
   "cell_type": "code",
   "execution_count": 4,
   "metadata": {},
   "outputs": [
    {
     "data": {
      "text/plain": [
       "0"
      ]
     },
     "execution_count": 4,
     "metadata": {},
     "output_type": "execute_result"
    }
   ],
   "source": [
    "os.system('jupyter nbconvert  --no-input --to html index.ipynb')"
   ]
  },
  {
   "cell_type": "code",
   "execution_count": null,
   "metadata": {},
   "outputs": [],
   "source": []
  }
 ],
 "metadata": {
  "kernelspec": {
   "display_name": "Python 3",
   "language": "python",
   "name": "python3"
  },
  "language_info": {
   "codemirror_mode": {
    "name": "ipython",
    "version": 3
   },
   "file_extension": ".py",
   "mimetype": "text/x-python",
   "name": "python",
   "nbconvert_exporter": "python",
   "pygments_lexer": "ipython3",
   "version": "3.7.9"
  }
 },
 "nbformat": 4,
 "nbformat_minor": 4
}
